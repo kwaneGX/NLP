{
 "cells": [
  {
   "cell_type": "code",
   "execution_count": 1,
   "metadata": {
    "collapsed": true
   },
   "outputs": [],
   "source": [
    "import argparse\n",
    "import time\n",
    "import torch\n",
    "from torch.autograd import Variable\n",
    "import numpy as np\n",
    "torch.manual_seed(5)\n",
    "import sys\n",
    "sys.path.append(\"..\")\n",
    "# ############################################################################\n",
    "# param\n",
    "##############################################################################\n",
    "batch_size=50\n",
    "use_cuda=1\n",
    "##############################################################################\n",
    "# Load data\n",
    "##############################################################################\n",
    "from data_loader import DataLoader\n",
    "#question\n",
    "path='/media/kwane/3160053c-937e-4de9-a540-b28bd2802040/kwane/NLP/lstm_text_class/data/rt/'\n",
    "pretrained_wordvec=np.load(path+'pretrained_wordvec.npy')\n",
    "data = torch.load(path+'corpus.pt')\n",
    "max_len = data[\"max_len\"]\n",
    "vocab_size = data['dict']['vocab_size']\n",
    "label_size = data['dict']['label_size']\n",
    "\n",
    "training_data = DataLoader(\n",
    "             data['train']['src'],\n",
    "             data['train']['label'],\n",
    "             data['train']['train_mask'],\n",
    "             data['train']['train_mask_all'],\n",
    "             max_len,\n",
    "             batch_size=batch_size)\n",
    "\n",
    "validation_data = DataLoader(\n",
    "              data['valid']['src'],\n",
    "              data['valid']['label'],\n",
    "              data['valid']['valid_mask'],\n",
    "              data['valid']['valid_mask_all'],\n",
    "              max_len,\n",
    "              batch_size=batch_size,\n",
    "              shuffle=False)"
   ]
  },
  {
   "cell_type": "code",
   "execution_count": 2,
   "metadata": {
    "collapsed": true
   },
   "outputs": [],
   "source": [
    "# ##############################################################################\n",
    "# Training\n",
    "# ##############################################################################\n",
    "import time\n",
    "from tqdm import tqdm\n",
    "\n",
    "train_loss = []\n",
    "valid_loss = []\n",
    "accuracy = []\n",
    "\n",
    "def repackage_hidden(h):\n",
    "    if type(h) == Variable:\n",
    "        if use_cuda:\n",
    "            return Variable(h.data).cuda()\n",
    "        return Variable(h.data)\n",
    "    else:\n",
    "        return tuple(repackage_hidden(v) for v in h)\n",
    "\n",
    "def evaluate():\n",
    "    rnn.eval()\n",
    "    corrects = eval_loss = 0\n",
    "    _size = validation_data.sents_size\n",
    "    hidden = rnn.init_hidden()\n",
    "    for data, label in tqdm(validation_data, mininterval=0.2,\n",
    "                desc='Evaluate Processing', leave=False):\n",
    "        hidden = repackage_hidden(hidden)\n",
    "        pred, hidden = rnn(data, hidden)\n",
    "        loss = criterion(pred, label)\n",
    "\n",
    "        eval_loss += loss.data\n",
    "        corrects += (torch.max(pred, 1)[1].view(label.size()).data == label.data).sum()\n",
    "\n",
    "    return 1.0*eval_loss[0]/_size, corrects, 1.0*corrects/_size * 100.0, _size\n",
    "\n",
    "def train():\n",
    "    rnn.train()\n",
    "    total_loss = 0\n",
    "    hidden = rnn.init_hidden()\n",
    "    for data, label in tqdm(training_data, mininterval=1,\n",
    "                desc='Train Processing', leave=False):\n",
    "        optimizer.zero_grad()\n",
    "        hidden = repackage_hidden(hidden)\n",
    "        target, hidden = rnn(data, hidden)\n",
    "        loss = criterion(target, label)\n",
    "\n",
    "        loss.backward()\n",
    "        optimizer.step()\n",
    "\n",
    "        total_loss += loss.data\n",
    "    return 1.0*total_loss[0]/training_data.sents_size\n",
    "\n"
   ]
  },
  {
   "cell_type": "code",
   "execution_count": 3,
   "metadata": {
    "collapsed": false
   },
   "outputs": [
    {
     "name": "stderr",
     "output_type": "stream",
     "text": [
      "\r",
      "Train Processing: 0it [00:00, ?it/s]"
     ]
    },
    {
     "name": "stdout",
     "output_type": "stream",
     "text": [
      "LSTM_Text(\n",
      "  (lookup_table): Embedding(9278, 300, padding_idx=0)\n",
      "  (lstm): LSTM(300, 128, dropout=0.5, bidirectional=1)\n",
      "  (ln): LayerNorm(\n",
      "  )\n",
      "  (logistic): Linear(in_features=256, out_features=6, bias=True)\n",
      ")\n",
      "------------------------------------------------------------------------------------------\n"
     ]
    },
    {
     "name": "stderr",
     "output_type": "stream",
     "text": [
      "/media/kwane/3160053c-937e-4de9-a540-b28bd2802040/anaconda2/lib/python2.7/site-packages/ipykernel/__main__.py:65: UserWarning: Implicit dimension choice for log_softmax has been deprecated. Change the call to include dim=X as an argument.\n",
      "Train Processing: 0it [00:00, ?it/s]    "
     ]
    },
    {
     "name": "stdout",
     "output_type": "stream",
     "text": [
      "| start of epoch   1 | time: 1.92s | loss 0.095769\n",
      "30.6\n",
      "------------------------------------------------------------------------------------------\n",
      "| end of epoch   1 | time: 0.00s | loss 0.0621 | accuracy 30.6000%(153/500)\n",
      "------------------------------------------------------------------------------------------\n"
     ]
    },
    {
     "name": "stderr",
     "output_type": "stream",
     "text": [
      "Train Processing: 0it [00:00, ?it/s]   "
     ]
    },
    {
     "name": "stdout",
     "output_type": "stream",
     "text": [
      "| start of epoch   2 | time: 0.78s | loss 0.045407\n",
      "43.8\n",
      "------------------------------------------------------------------------------------------\n",
      "| end of epoch   2 | time: 0.00s | loss 0.0459 | accuracy 43.8000%(219/500)\n",
      "------------------------------------------------------------------------------------------\n"
     ]
    },
    {
     "name": "stderr",
     "output_type": "stream",
     "text": [
      "Train Processing: 0it [00:00, ?it/s]   "
     ]
    },
    {
     "name": "stdout",
     "output_type": "stream",
     "text": [
      "| start of epoch   3 | time: 0.77s | loss 0.028661\n",
      "60.0\n",
      "------------------------------------------------------------------------------------------\n",
      "| end of epoch   3 | time: 0.00s | loss 0.0304 | accuracy 60.0000%(300/500)\n",
      "------------------------------------------------------------------------------------------\n"
     ]
    },
    {
     "name": "stderr",
     "output_type": "stream",
     "text": [
      "Train Processing: 0it [00:00, ?it/s]   "
     ]
    },
    {
     "name": "stdout",
     "output_type": "stream",
     "text": [
      "| start of epoch   4 | time: 0.81s | loss 0.017298\n",
      "73.6\n",
      "------------------------------------------------------------------------------------------\n",
      "| end of epoch   4 | time: 0.00s | loss 0.0187 | accuracy 73.6000%(368/500)\n",
      "------------------------------------------------------------------------------------------\n"
     ]
    },
    {
     "name": "stderr",
     "output_type": "stream",
     "text": [
      "Train Processing: 0it [00:00, ?it/s]   "
     ]
    },
    {
     "name": "stdout",
     "output_type": "stream",
     "text": [
      "| start of epoch   5 | time: 0.84s | loss 0.011737\n",
      "76.2\n",
      "------------------------------------------------------------------------------------------\n",
      "| end of epoch   5 | time: 0.00s | loss 0.0173 | accuracy 76.2000%(381/500)\n",
      "------------------------------------------------------------------------------------------\n"
     ]
    },
    {
     "name": "stderr",
     "output_type": "stream",
     "text": [
      "Train Processing: 0it [00:00, ?it/s]   "
     ]
    },
    {
     "name": "stdout",
     "output_type": "stream",
     "text": [
      "| start of epoch   6 | time: 0.79s | loss 0.008389\n",
      "78.0\n",
      "------------------------------------------------------------------------------------------\n",
      "| end of epoch   6 | time: 0.00s | loss 0.0184 | accuracy 78.0000%(390/500)\n",
      "------------------------------------------------------------------------------------------\n"
     ]
    },
    {
     "name": "stderr",
     "output_type": "stream",
     "text": [
      "Train Processing: 0it [00:00, ?it/s]   "
     ]
    },
    {
     "name": "stdout",
     "output_type": "stream",
     "text": [
      "| start of epoch   7 | time: 0.82s | loss 0.005142\n",
      "80.8\n",
      "------------------------------------------------------------------------------------------\n",
      "| end of epoch   7 | time: 0.00s | loss 0.0177 | accuracy 80.8000%(404/500)\n",
      "------------------------------------------------------------------------------------------\n"
     ]
    },
    {
     "name": "stderr",
     "output_type": "stream",
     "text": [
      "Train Processing: 0it [00:00, ?it/s]   "
     ]
    },
    {
     "name": "stdout",
     "output_type": "stream",
     "text": [
      "| start of epoch   8 | time: 0.79s | loss 0.003367\n",
      "78.2\n",
      "------------------------------------------------------------------------------------------\n",
      "| end of epoch   8 | time: 0.00s | loss 0.0214 | accuracy 78.2000%(391/500)\n",
      "------------------------------------------------------------------------------------------\n"
     ]
    },
    {
     "name": "stderr",
     "output_type": "stream",
     "text": [
      "Train Processing: 0it [00:00, ?it/s]   "
     ]
    },
    {
     "name": "stdout",
     "output_type": "stream",
     "text": [
      "| start of epoch   9 | time: 0.78s | loss 0.002543\n",
      "76.6\n",
      "------------------------------------------------------------------------------------------\n",
      "| end of epoch   9 | time: 0.00s | loss 0.0281 | accuracy 76.6000%(383/500)\n",
      "------------------------------------------------------------------------------------------\n"
     ]
    },
    {
     "name": "stderr",
     "output_type": "stream",
     "text": [
      "Train Processing: 0it [00:00, ?it/s]   "
     ]
    },
    {
     "name": "stdout",
     "output_type": "stream",
     "text": [
      "| start of epoch  10 | time: 0.79s | loss 0.002889\n",
      "80.6\n",
      "------------------------------------------------------------------------------------------\n",
      "| end of epoch  10 | time: 0.00s | loss 0.0202 | accuracy 80.6000%(403/500)\n",
      "------------------------------------------------------------------------------------------\n"
     ]
    },
    {
     "name": "stderr",
     "output_type": "stream",
     "text": [
      "Train Processing: 0it [00:00, ?it/s]   "
     ]
    },
    {
     "name": "stdout",
     "output_type": "stream",
     "text": [
      "| start of epoch  11 | time: 0.79s | loss 0.002401\n",
      "80.0\n",
      "------------------------------------------------------------------------------------------\n",
      "| end of epoch  11 | time: 0.00s | loss 0.0217 | accuracy 80.0000%(400/500)\n",
      "------------------------------------------------------------------------------------------\n"
     ]
    },
    {
     "name": "stderr",
     "output_type": "stream",
     "text": [
      "Train Processing: 0it [00:00, ?it/s]   "
     ]
    },
    {
     "name": "stdout",
     "output_type": "stream",
     "text": [
      "| start of epoch  12 | time: 0.79s | loss 0.002849\n",
      "80.4\n",
      "------------------------------------------------------------------------------------------\n",
      "| end of epoch  12 | time: 0.00s | loss 0.0218 | accuracy 80.4000%(402/500)\n",
      "------------------------------------------------------------------------------------------\n"
     ]
    },
    {
     "name": "stderr",
     "output_type": "stream",
     "text": [
      "Train Processing: 0it [00:00, ?it/s]   "
     ]
    },
    {
     "name": "stdout",
     "output_type": "stream",
     "text": [
      "| start of epoch  13 | time: 0.79s | loss 0.002571\n",
      "76.8\n",
      "------------------------------------------------------------------------------------------\n",
      "| end of epoch  13 | time: 0.00s | loss 0.0305 | accuracy 76.8000%(384/500)\n",
      "------------------------------------------------------------------------------------------\n"
     ]
    },
    {
     "name": "stderr",
     "output_type": "stream",
     "text": [
      "Train Processing: 0it [00:00, ?it/s]   "
     ]
    },
    {
     "name": "stdout",
     "output_type": "stream",
     "text": [
      "| start of epoch  14 | time: 0.79s | loss 0.001786\n",
      "78.8\n",
      "------------------------------------------------------------------------------------------\n",
      "| end of epoch  14 | time: 0.00s | loss 0.0274 | accuracy 78.8000%(394/500)\n",
      "------------------------------------------------------------------------------------------\n"
     ]
    },
    {
     "name": "stderr",
     "output_type": "stream",
     "text": [
      "Train Processing: 0it [00:00, ?it/s]   "
     ]
    },
    {
     "name": "stdout",
     "output_type": "stream",
     "text": [
      "| start of epoch  15 | time: 0.77s | loss 0.002271\n",
      "79.4\n",
      "------------------------------------------------------------------------------------------\n",
      "| end of epoch  15 | time: 0.00s | loss 0.0230 | accuracy 79.4000%(397/500)\n",
      "------------------------------------------------------------------------------------------\n"
     ]
    },
    {
     "name": "stderr",
     "output_type": "stream",
     "text": [
      "Train Processing: 0it [00:00, ?it/s]   "
     ]
    },
    {
     "name": "stdout",
     "output_type": "stream",
     "text": [
      "| start of epoch  16 | time: 0.79s | loss 0.001853\n",
      "79.4\n",
      "------------------------------------------------------------------------------------------\n",
      "| end of epoch  16 | time: 0.00s | loss 0.0281 | accuracy 79.4000%(397/500)\n",
      "------------------------------------------------------------------------------------------\n"
     ]
    },
    {
     "name": "stderr",
     "output_type": "stream",
     "text": [
      "Train Processing: 0it [00:00, ?it/s]   "
     ]
    },
    {
     "name": "stdout",
     "output_type": "stream",
     "text": [
      "| start of epoch  17 | time: 0.78s | loss 0.001065\n",
      "80.2\n",
      "------------------------------------------------------------------------------------------\n",
      "| end of epoch  17 | time: 0.00s | loss 0.0226 | accuracy 80.2000%(401/500)\n",
      "------------------------------------------------------------------------------------------\n"
     ]
    },
    {
     "name": "stderr",
     "output_type": "stream",
     "text": [
      "Train Processing: 0it [00:00, ?it/s]   "
     ]
    },
    {
     "name": "stdout",
     "output_type": "stream",
     "text": [
      "| start of epoch  18 | time: 0.78s | loss 0.001691\n",
      "79.4\n",
      "------------------------------------------------------------------------------------------\n",
      "| end of epoch  18 | time: 0.00s | loss 0.0240 | accuracy 79.4000%(397/500)\n",
      "------------------------------------------------------------------------------------------\n"
     ]
    },
    {
     "name": "stderr",
     "output_type": "stream",
     "text": [
      "Train Processing: 0it [00:00, ?it/s]   "
     ]
    },
    {
     "name": "stdout",
     "output_type": "stream",
     "text": [
      "| start of epoch  19 | time: 0.79s | loss 0.001381\n",
      "79.4\n",
      "------------------------------------------------------------------------------------------\n",
      "| end of epoch  19 | time: 0.00s | loss 0.0263 | accuracy 79.4000%(397/500)\n",
      "------------------------------------------------------------------------------------------\n"
     ]
    },
    {
     "name": "stderr",
     "output_type": "stream",
     "text": [
      "Train Processing: 0it [00:00, ?it/s]   "
     ]
    },
    {
     "name": "stdout",
     "output_type": "stream",
     "text": [
      "| start of epoch  20 | time: 0.81s | loss 0.001990\n",
      "82.0\n",
      "------------------------------------------------------------------------------------------\n",
      "| end of epoch  20 | time: 0.00s | loss 0.0183 | accuracy 82.0000%(410/500)\n",
      "------------------------------------------------------------------------------------------\n"
     ]
    },
    {
     "name": "stderr",
     "output_type": "stream",
     "text": [
      "Train Processing: 0it [00:00, ?it/s]   "
     ]
    },
    {
     "name": "stdout",
     "output_type": "stream",
     "text": [
      "| start of epoch  21 | time: 0.79s | loss 0.001877\n",
      "81.0\n",
      "------------------------------------------------------------------------------------------\n",
      "| end of epoch  21 | time: 0.00s | loss 0.0232 | accuracy 81.0000%(405/500)\n",
      "------------------------------------------------------------------------------------------\n"
     ]
    },
    {
     "name": "stderr",
     "output_type": "stream",
     "text": [
      "Train Processing: 0it [00:00, ?it/s]   "
     ]
    },
    {
     "name": "stdout",
     "output_type": "stream",
     "text": [
      "| start of epoch  22 | time: 0.77s | loss 0.001689\n",
      "80.0\n",
      "------------------------------------------------------------------------------------------\n",
      "| end of epoch  22 | time: 0.00s | loss 0.0290 | accuracy 80.0000%(400/500)\n",
      "------------------------------------------------------------------------------------------\n"
     ]
    },
    {
     "name": "stderr",
     "output_type": "stream",
     "text": [
      "Train Processing: 0it [00:00, ?it/s]   "
     ]
    },
    {
     "name": "stdout",
     "output_type": "stream",
     "text": [
      "| start of epoch  23 | time: 0.78s | loss 0.001728\n",
      "80.0\n",
      "------------------------------------------------------------------------------------------\n",
      "| end of epoch  23 | time: 0.00s | loss 0.0269 | accuracy 80.0000%(400/500)\n",
      "------------------------------------------------------------------------------------------\n"
     ]
    },
    {
     "name": "stderr",
     "output_type": "stream",
     "text": [
      "Train Processing: 0it [00:00, ?it/s]   "
     ]
    },
    {
     "name": "stdout",
     "output_type": "stream",
     "text": [
      "| start of epoch  24 | time: 0.77s | loss 0.001574\n",
      "72.0\n",
      "------------------------------------------------------------------------------------------\n",
      "| end of epoch  24 | time: 0.00s | loss 0.0445 | accuracy 72.0000%(360/500)\n",
      "------------------------------------------------------------------------------------------\n"
     ]
    },
    {
     "name": "stderr",
     "output_type": "stream",
     "text": [
      "Train Processing: 0it [00:00, ?it/s]   "
     ]
    },
    {
     "name": "stdout",
     "output_type": "stream",
     "text": [
      "| start of epoch  25 | time: 0.78s | loss 0.001814\n",
      "80.4\n",
      "------------------------------------------------------------------------------------------\n",
      "| end of epoch  25 | time: 0.00s | loss 0.0253 | accuracy 80.4000%(402/500)\n",
      "------------------------------------------------------------------------------------------\n"
     ]
    },
    {
     "name": "stderr",
     "output_type": "stream",
     "text": [
      "Train Processing: 0it [00:00, ?it/s]   "
     ]
    },
    {
     "name": "stdout",
     "output_type": "stream",
     "text": [
      "| start of epoch  26 | time: 0.82s | loss 0.001225\n",
      "79.2\n",
      "------------------------------------------------------------------------------------------\n",
      "| end of epoch  26 | time: 0.00s | loss 0.0260 | accuracy 79.2000%(396/500)\n",
      "------------------------------------------------------------------------------------------\n"
     ]
    },
    {
     "name": "stderr",
     "output_type": "stream",
     "text": [
      "Train Processing: 0it [00:00, ?it/s]   "
     ]
    },
    {
     "name": "stdout",
     "output_type": "stream",
     "text": [
      "| start of epoch  27 | time: 0.78s | loss 0.001466\n",
      "77.4\n",
      "------------------------------------------------------------------------------------------\n",
      "| end of epoch  27 | time: 0.00s | loss 0.0310 | accuracy 77.4000%(387/500)\n",
      "------------------------------------------------------------------------------------------\n"
     ]
    },
    {
     "name": "stderr",
     "output_type": "stream",
     "text": [
      "Train Processing: 0it [00:00, ?it/s]   "
     ]
    },
    {
     "name": "stdout",
     "output_type": "stream",
     "text": [
      "| start of epoch  28 | time: 0.78s | loss 0.001590\n",
      "78.8\n",
      "------------------------------------------------------------------------------------------\n",
      "| end of epoch  28 | time: 0.00s | loss 0.0222 | accuracy 78.8000%(394/500)\n",
      "------------------------------------------------------------------------------------------\n"
     ]
    },
    {
     "name": "stderr",
     "output_type": "stream",
     "text": [
      "Train Processing: 0it [00:00, ?it/s]   "
     ]
    },
    {
     "name": "stdout",
     "output_type": "stream",
     "text": [
      "| start of epoch  29 | time: 0.79s | loss 0.001585\n",
      "81.4\n",
      "------------------------------------------------------------------------------------------\n",
      "| end of epoch  29 | time: 0.00s | loss 0.0249 | accuracy 81.4000%(407/500)\n",
      "------------------------------------------------------------------------------------------\n"
     ]
    },
    {
     "name": "stderr",
     "output_type": "stream",
     "text": [
      "Train Processing: 0it [00:00, ?it/s]   "
     ]
    },
    {
     "name": "stdout",
     "output_type": "stream",
     "text": [
      "| start of epoch  30 | time: 0.80s | loss 0.001319\n",
      "81.0\n",
      "------------------------------------------------------------------------------------------\n",
      "| end of epoch  30 | time: 0.00s | loss 0.0220 | accuracy 81.0000%(405/500)\n",
      "------------------------------------------------------------------------------------------\n"
     ]
    },
    {
     "name": "stderr",
     "output_type": "stream",
     "text": [
      "Train Processing: 0it [00:00, ?it/s]   "
     ]
    },
    {
     "name": "stdout",
     "output_type": "stream",
     "text": [
      "| start of epoch  31 | time: 0.78s | loss 0.000819\n",
      "81.4\n",
      "------------------------------------------------------------------------------------------\n",
      "| end of epoch  31 | time: 0.00s | loss 0.0222 | accuracy 81.4000%(407/500)\n",
      "------------------------------------------------------------------------------------------\n"
     ]
    },
    {
     "name": "stderr",
     "output_type": "stream",
     "text": [
      "Train Processing: 0it [00:00, ?it/s]   "
     ]
    },
    {
     "name": "stdout",
     "output_type": "stream",
     "text": [
      "| start of epoch  32 | time: 0.78s | loss 0.000965\n",
      "79.2\n",
      "------------------------------------------------------------------------------------------\n",
      "| end of epoch  32 | time: 0.00s | loss 0.0216 | accuracy 79.2000%(396/500)\n",
      "------------------------------------------------------------------------------------------\n"
     ]
    },
    {
     "name": "stderr",
     "output_type": "stream",
     "text": [
      "Train Processing: 0it [00:00, ?it/s]   "
     ]
    },
    {
     "name": "stdout",
     "output_type": "stream",
     "text": [
      "| start of epoch  33 | time: 0.79s | loss 0.001066\n",
      "75.0\n",
      "------------------------------------------------------------------------------------------\n",
      "| end of epoch  33 | time: 0.00s | loss 0.0348 | accuracy 75.0000%(375/500)\n",
      "------------------------------------------------------------------------------------------\n"
     ]
    },
    {
     "name": "stderr",
     "output_type": "stream",
     "text": [
      "Train Processing: 0it [00:00, ?it/s]   "
     ]
    },
    {
     "name": "stdout",
     "output_type": "stream",
     "text": [
      "| start of epoch  34 | time: 0.79s | loss 0.002341\n",
      "79.4\n",
      "------------------------------------------------------------------------------------------\n",
      "| end of epoch  34 | time: 0.00s | loss 0.0234 | accuracy 79.4000%(397/500)\n",
      "------------------------------------------------------------------------------------------\n"
     ]
    },
    {
     "name": "stderr",
     "output_type": "stream",
     "text": [
      "Train Processing: 0it [00:00, ?it/s]   "
     ]
    },
    {
     "name": "stdout",
     "output_type": "stream",
     "text": [
      "| start of epoch  35 | time: 0.79s | loss 0.002329\n",
      "80.8\n",
      "------------------------------------------------------------------------------------------\n",
      "| end of epoch  35 | time: 0.00s | loss 0.0210 | accuracy 80.8000%(404/500)\n",
      "------------------------------------------------------------------------------------------\n"
     ]
    },
    {
     "name": "stderr",
     "output_type": "stream",
     "text": [
      "Train Processing: 0it [00:00, ?it/s]   "
     ]
    },
    {
     "name": "stdout",
     "output_type": "stream",
     "text": [
      "| start of epoch  36 | time: 0.78s | loss 0.001163\n",
      "77.6\n",
      "------------------------------------------------------------------------------------------\n",
      "| end of epoch  36 | time: 0.00s | loss 0.0240 | accuracy 77.6000%(388/500)\n",
      "------------------------------------------------------------------------------------------\n"
     ]
    },
    {
     "name": "stderr",
     "output_type": "stream",
     "text": [
      "Train Processing: 0it [00:00, ?it/s]   "
     ]
    },
    {
     "name": "stdout",
     "output_type": "stream",
     "text": [
      "| start of epoch  37 | time: 0.79s | loss 0.001200\n",
      "81.6\n",
      "------------------------------------------------------------------------------------------\n",
      "| end of epoch  37 | time: 0.00s | loss 0.0221 | accuracy 81.6000%(408/500)\n",
      "------------------------------------------------------------------------------------------\n"
     ]
    },
    {
     "name": "stderr",
     "output_type": "stream",
     "text": [
      "Train Processing: 0it [00:00, ?it/s]   "
     ]
    },
    {
     "name": "stdout",
     "output_type": "stream",
     "text": [
      "| start of epoch  38 | time: 0.79s | loss 0.000660\n",
      "80.0\n",
      "------------------------------------------------------------------------------------------\n",
      "| end of epoch  38 | time: 0.00s | loss 0.0231 | accuracy 80.0000%(400/500)\n",
      "------------------------------------------------------------------------------------------\n"
     ]
    },
    {
     "name": "stderr",
     "output_type": "stream",
     "text": [
      "Train Processing: 0it [00:00, ?it/s]   "
     ]
    },
    {
     "name": "stdout",
     "output_type": "stream",
     "text": [
      "| start of epoch  39 | time: 0.78s | loss 0.000880\n",
      "80.2\n",
      "------------------------------------------------------------------------------------------\n",
      "| end of epoch  39 | time: 0.00s | loss 0.0223 | accuracy 80.2000%(401/500)\n",
      "------------------------------------------------------------------------------------------\n"
     ]
    },
    {
     "name": "stderr",
     "output_type": "stream",
     "text": [
      "Train Processing: 0it [00:00, ?it/s]   "
     ]
    },
    {
     "name": "stdout",
     "output_type": "stream",
     "text": [
      "| start of epoch  40 | time: 0.78s | loss 0.000750\n",
      "80.8\n",
      "------------------------------------------------------------------------------------------\n",
      "| end of epoch  40 | time: 0.00s | loss 0.0223 | accuracy 80.8000%(404/500)\n",
      "------------------------------------------------------------------------------------------\n"
     ]
    },
    {
     "name": "stderr",
     "output_type": "stream",
     "text": [
      "Train Processing: 0it [00:00, ?it/s]   "
     ]
    },
    {
     "name": "stdout",
     "output_type": "stream",
     "text": [
      "| start of epoch  41 | time: 0.78s | loss 0.000768\n",
      "79.4\n",
      "------------------------------------------------------------------------------------------\n",
      "| end of epoch  41 | time: 0.00s | loss 0.0280 | accuracy 79.4000%(397/500)\n",
      "------------------------------------------------------------------------------------------\n"
     ]
    },
    {
     "name": "stderr",
     "output_type": "stream",
     "text": [
      "Train Processing: 0it [00:00, ?it/s]   "
     ]
    },
    {
     "name": "stdout",
     "output_type": "stream",
     "text": [
      "| start of epoch  42 | time: 0.78s | loss 0.001293\n",
      "78.8\n",
      "------------------------------------------------------------------------------------------\n",
      "| end of epoch  42 | time: 0.00s | loss 0.0255 | accuracy 78.8000%(394/500)\n",
      "------------------------------------------------------------------------------------------\n"
     ]
    },
    {
     "name": "stderr",
     "output_type": "stream",
     "text": [
      "Train Processing: 0it [00:00, ?it/s]   "
     ]
    },
    {
     "name": "stdout",
     "output_type": "stream",
     "text": [
      "| start of epoch  43 | time: 0.77s | loss 0.000946\n",
      "81.2\n",
      "------------------------------------------------------------------------------------------\n",
      "| end of epoch  43 | time: 0.00s | loss 0.0210 | accuracy 81.2000%(406/500)\n",
      "------------------------------------------------------------------------------------------\n"
     ]
    },
    {
     "name": "stderr",
     "output_type": "stream",
     "text": [
      "Train Processing: 0it [00:00, ?it/s]   "
     ]
    },
    {
     "name": "stdout",
     "output_type": "stream",
     "text": [
      "| start of epoch  44 | time: 0.77s | loss 0.001052\n",
      "82.0\n",
      "------------------------------------------------------------------------------------------\n",
      "| end of epoch  44 | time: 0.00s | loss 0.0188 | accuracy 82.0000%(410/500)\n",
      "------------------------------------------------------------------------------------------\n"
     ]
    },
    {
     "name": "stderr",
     "output_type": "stream",
     "text": [
      "Train Processing: 0it [00:00, ?it/s]   "
     ]
    },
    {
     "name": "stdout",
     "output_type": "stream",
     "text": [
      "| start of epoch  45 | time: 0.78s | loss 0.001263\n",
      "79.2\n",
      "------------------------------------------------------------------------------------------\n",
      "| end of epoch  45 | time: 0.00s | loss 0.0265 | accuracy 79.2000%(396/500)\n",
      "------------------------------------------------------------------------------------------\n"
     ]
    },
    {
     "name": "stderr",
     "output_type": "stream",
     "text": [
      "Train Processing: 0it [00:00, ?it/s]   "
     ]
    },
    {
     "name": "stdout",
     "output_type": "stream",
     "text": [
      "| start of epoch  46 | time: 0.77s | loss 0.001159\n",
      "78.8\n",
      "------------------------------------------------------------------------------------------\n",
      "| end of epoch  46 | time: 0.00s | loss 0.0244 | accuracy 78.8000%(394/500)\n",
      "------------------------------------------------------------------------------------------\n"
     ]
    },
    {
     "name": "stderr",
     "output_type": "stream",
     "text": [
      "Train Processing: 0it [00:00, ?it/s]   "
     ]
    },
    {
     "name": "stdout",
     "output_type": "stream",
     "text": [
      "| start of epoch  47 | time: 0.77s | loss 0.000741\n",
      "81.4\n",
      "------------------------------------------------------------------------------------------\n",
      "| end of epoch  47 | time: 0.00s | loss 0.0200 | accuracy 81.4000%(407/500)\n",
      "------------------------------------------------------------------------------------------\n"
     ]
    },
    {
     "name": "stderr",
     "output_type": "stream",
     "text": [
      "Train Processing: 0it [00:00, ?it/s]   "
     ]
    },
    {
     "name": "stdout",
     "output_type": "stream",
     "text": [
      "| start of epoch  48 | time: 0.77s | loss 0.000671\n",
      "79.8\n",
      "------------------------------------------------------------------------------------------\n",
      "| end of epoch  48 | time: 0.00s | loss 0.0208 | accuracy 79.8000%(399/500)\n",
      "------------------------------------------------------------------------------------------\n"
     ]
    },
    {
     "name": "stderr",
     "output_type": "stream",
     "text": [
      "Train Processing: 0it [00:00, ?it/s]   "
     ]
    },
    {
     "name": "stdout",
     "output_type": "stream",
     "text": [
      "| start of epoch  49 | time: 0.77s | loss 0.000917\n",
      "81.2\n",
      "------------------------------------------------------------------------------------------\n",
      "| end of epoch  49 | time: 0.00s | loss 0.0209 | accuracy 81.2000%(406/500)\n",
      "------------------------------------------------------------------------------------------\n"
     ]
    },
    {
     "name": "stderr",
     "output_type": "stream",
     "text": [
      "Train Processing: 0it [00:00, ?it/s]   "
     ]
    },
    {
     "name": "stdout",
     "output_type": "stream",
     "text": [
      "| start of epoch  50 | time: 0.77s | loss 0.000699\n",
      "80.6\n",
      "------------------------------------------------------------------------------------------\n",
      "| end of epoch  50 | time: 0.00s | loss 0.0233 | accuracy 80.6000%(403/500)\n",
      "------------------------------------------------------------------------------------------\n"
     ]
    },
    {
     "name": "stderr",
     "output_type": "stream",
     "text": [
      "Train Processing: 0it [00:00, ?it/s]   "
     ]
    },
    {
     "name": "stdout",
     "output_type": "stream",
     "text": [
      "| start of epoch  51 | time: 0.77s | loss 0.001377\n",
      "80.4\n",
      "------------------------------------------------------------------------------------------\n",
      "| end of epoch  51 | time: 0.00s | loss 0.0214 | accuracy 80.4000%(402/500)\n",
      "------------------------------------------------------------------------------------------\n"
     ]
    },
    {
     "name": "stderr",
     "output_type": "stream",
     "text": [
      "Train Processing: 0it [00:00, ?it/s]   "
     ]
    },
    {
     "name": "stdout",
     "output_type": "stream",
     "text": [
      "| start of epoch  52 | time: 0.78s | loss 0.001065\n",
      "81.0\n",
      "------------------------------------------------------------------------------------------\n",
      "| end of epoch  52 | time: 0.00s | loss 0.0180 | accuracy 81.0000%(405/500)\n",
      "------------------------------------------------------------------------------------------\n"
     ]
    },
    {
     "name": "stderr",
     "output_type": "stream",
     "text": [
      "Train Processing: 0it [00:00, ?it/s]   "
     ]
    },
    {
     "name": "stdout",
     "output_type": "stream",
     "text": [
      "| start of epoch  53 | time: 0.77s | loss 0.000810\n",
      "82.8\n",
      "------------------------------------------------------------------------------------------\n",
      "| end of epoch  53 | time: 0.00s | loss 0.0187 | accuracy 82.8000%(414/500)\n",
      "------------------------------------------------------------------------------------------\n"
     ]
    },
    {
     "name": "stderr",
     "output_type": "stream",
     "text": [
      "Train Processing: 0it [00:00, ?it/s]   "
     ]
    },
    {
     "name": "stdout",
     "output_type": "stream",
     "text": [
      "| start of epoch  54 | time: 0.78s | loss 0.000740\n",
      "81.0\n",
      "------------------------------------------------------------------------------------------\n",
      "| end of epoch  54 | time: 0.00s | loss 0.0205 | accuracy 81.0000%(405/500)\n",
      "------------------------------------------------------------------------------------------\n"
     ]
    },
    {
     "name": "stderr",
     "output_type": "stream",
     "text": [
      "Train Processing: 0it [00:00, ?it/s]   "
     ]
    },
    {
     "name": "stdout",
     "output_type": "stream",
     "text": [
      "| start of epoch  55 | time: 0.77s | loss 0.000920\n",
      "82.2\n",
      "------------------------------------------------------------------------------------------\n",
      "| end of epoch  55 | time: 0.00s | loss 0.0189 | accuracy 82.2000%(411/500)\n",
      "------------------------------------------------------------------------------------------\n"
     ]
    },
    {
     "name": "stderr",
     "output_type": "stream",
     "text": [
      "Train Processing: 0it [00:00, ?it/s]   "
     ]
    },
    {
     "name": "stdout",
     "output_type": "stream",
     "text": [
      "| start of epoch  56 | time: 0.77s | loss 0.000870\n",
      "82.6\n",
      "------------------------------------------------------------------------------------------\n",
      "| end of epoch  56 | time: 0.00s | loss 0.0193 | accuracy 82.6000%(413/500)\n",
      "------------------------------------------------------------------------------------------\n"
     ]
    },
    {
     "name": "stderr",
     "output_type": "stream",
     "text": [
      "Train Processing: 0it [00:00, ?it/s]   "
     ]
    },
    {
     "name": "stdout",
     "output_type": "stream",
     "text": [
      "| start of epoch  57 | time: 0.77s | loss 0.000544\n",
      "81.0\n",
      "------------------------------------------------------------------------------------------\n",
      "| end of epoch  57 | time: 0.00s | loss 0.0209 | accuracy 81.0000%(405/500)\n",
      "------------------------------------------------------------------------------------------\n"
     ]
    },
    {
     "name": "stderr",
     "output_type": "stream",
     "text": [
      "Train Processing: 0it [00:00, ?it/s]   "
     ]
    },
    {
     "name": "stdout",
     "output_type": "stream",
     "text": [
      "| start of epoch  58 | time: 0.77s | loss 0.000703\n",
      "82.2\n",
      "------------------------------------------------------------------------------------------\n",
      "| end of epoch  58 | time: 0.00s | loss 0.0198 | accuracy 82.2000%(411/500)\n",
      "------------------------------------------------------------------------------------------\n"
     ]
    },
    {
     "name": "stderr",
     "output_type": "stream",
     "text": [
      "Train Processing: 0it [00:00, ?it/s]   "
     ]
    },
    {
     "name": "stdout",
     "output_type": "stream",
     "text": [
      "| start of epoch  59 | time: 0.77s | loss 0.000704\n",
      "79.8\n",
      "------------------------------------------------------------------------------------------\n",
      "| end of epoch  59 | time: 0.00s | loss 0.0236 | accuracy 79.8000%(399/500)\n",
      "------------------------------------------------------------------------------------------\n"
     ]
    },
    {
     "name": "stderr",
     "output_type": "stream",
     "text": [
      "Train Processing: 0it [00:00, ?it/s]   "
     ]
    },
    {
     "name": "stdout",
     "output_type": "stream",
     "text": [
      "| start of epoch  60 | time: 0.77s | loss 0.000513\n",
      "80.6\n",
      "------------------------------------------------------------------------------------------\n",
      "| end of epoch  60 | time: 0.00s | loss 0.0230 | accuracy 80.6000%(403/500)\n",
      "------------------------------------------------------------------------------------------\n"
     ]
    },
    {
     "name": "stderr",
     "output_type": "stream",
     "text": [
      "Train Processing: 0it [00:00, ?it/s]   "
     ]
    },
    {
     "name": "stdout",
     "output_type": "stream",
     "text": [
      "| start of epoch  61 | time: 0.77s | loss 0.001130\n",
      "79.8\n",
      "------------------------------------------------------------------------------------------\n",
      "| end of epoch  61 | time: 0.00s | loss 0.0244 | accuracy 79.8000%(399/500)\n",
      "------------------------------------------------------------------------------------------\n"
     ]
    },
    {
     "name": "stderr",
     "output_type": "stream",
     "text": [
      "Train Processing: 0it [00:00, ?it/s]   "
     ]
    },
    {
     "name": "stdout",
     "output_type": "stream",
     "text": [
      "| start of epoch  62 | time: 0.77s | loss 0.001024\n",
      "78.4\n",
      "------------------------------------------------------------------------------------------\n",
      "| end of epoch  62 | time: 0.00s | loss 0.0263 | accuracy 78.4000%(392/500)\n",
      "------------------------------------------------------------------------------------------\n"
     ]
    },
    {
     "name": "stderr",
     "output_type": "stream",
     "text": [
      "Train Processing: 0it [00:00, ?it/s]   "
     ]
    },
    {
     "name": "stdout",
     "output_type": "stream",
     "text": [
      "| start of epoch  63 | time: 0.77s | loss 0.000849\n",
      "81.8\n",
      "------------------------------------------------------------------------------------------\n",
      "| end of epoch  63 | time: 0.00s | loss 0.0192 | accuracy 81.8000%(409/500)\n",
      "------------------------------------------------------------------------------------------\n"
     ]
    },
    {
     "name": "stderr",
     "output_type": "stream",
     "text": [
      "Train Processing: 0it [00:00, ?it/s]   "
     ]
    },
    {
     "name": "stdout",
     "output_type": "stream",
     "text": [
      "| start of epoch  64 | time: 0.77s | loss 0.000438\n",
      "81.8\n",
      "------------------------------------------------------------------------------------------\n",
      "| end of epoch  64 | time: 0.00s | loss 0.0196 | accuracy 81.8000%(409/500)\n",
      "------------------------------------------------------------------------------------------\n"
     ]
    },
    {
     "name": "stderr",
     "output_type": "stream",
     "text": [
      "Train Processing: 0it [00:00, ?it/s]   "
     ]
    },
    {
     "name": "stdout",
     "output_type": "stream",
     "text": [
      "| start of epoch  65 | time: 0.77s | loss 0.000546\n",
      "81.2\n",
      "------------------------------------------------------------------------------------------\n",
      "| end of epoch  65 | time: 0.00s | loss 0.0202 | accuracy 81.2000%(406/500)\n",
      "------------------------------------------------------------------------------------------\n"
     ]
    },
    {
     "name": "stderr",
     "output_type": "stream",
     "text": [
      "Train Processing: 0it [00:00, ?it/s]   "
     ]
    },
    {
     "name": "stdout",
     "output_type": "stream",
     "text": [
      "| start of epoch  66 | time: 0.77s | loss 0.000461\n",
      "81.4\n",
      "------------------------------------------------------------------------------------------\n",
      "| end of epoch  66 | time: 0.00s | loss 0.0193 | accuracy 81.4000%(407/500)\n",
      "------------------------------------------------------------------------------------------\n"
     ]
    },
    {
     "name": "stderr",
     "output_type": "stream",
     "text": [
      "Train Processing: 0it [00:00, ?it/s]   "
     ]
    },
    {
     "name": "stdout",
     "output_type": "stream",
     "text": [
      "| start of epoch  67 | time: 0.77s | loss 0.000335\n",
      "77.8\n",
      "------------------------------------------------------------------------------------------\n",
      "| end of epoch  67 | time: 0.00s | loss 0.0260 | accuracy 77.8000%(389/500)\n",
      "------------------------------------------------------------------------------------------\n"
     ]
    },
    {
     "name": "stderr",
     "output_type": "stream",
     "text": [
      "Train Processing: 0it [00:00, ?it/s]   "
     ]
    },
    {
     "name": "stdout",
     "output_type": "stream",
     "text": [
      "| start of epoch  68 | time: 0.77s | loss 0.000658\n",
      "79.2\n",
      "------------------------------------------------------------------------------------------\n",
      "| end of epoch  68 | time: 0.00s | loss 0.0233 | accuracy 79.2000%(396/500)\n",
      "------------------------------------------------------------------------------------------\n"
     ]
    },
    {
     "name": "stderr",
     "output_type": "stream",
     "text": [
      "Train Processing: 0it [00:00, ?it/s]   "
     ]
    },
    {
     "name": "stdout",
     "output_type": "stream",
     "text": [
      "| start of epoch  69 | time: 0.78s | loss 0.000897\n",
      "80.6\n",
      "------------------------------------------------------------------------------------------\n",
      "| end of epoch  69 | time: 0.00s | loss 0.0204 | accuracy 80.6000%(403/500)\n",
      "------------------------------------------------------------------------------------------\n"
     ]
    },
    {
     "name": "stderr",
     "output_type": "stream",
     "text": [
      "Train Processing: 0it [00:00, ?it/s]   "
     ]
    },
    {
     "name": "stdout",
     "output_type": "stream",
     "text": [
      "| start of epoch  70 | time: 0.77s | loss 0.001444\n",
      "81.0\n",
      "------------------------------------------------------------------------------------------\n",
      "| end of epoch  70 | time: 0.00s | loss 0.0170 | accuracy 81.0000%(405/500)\n",
      "------------------------------------------------------------------------------------------\n"
     ]
    },
    {
     "name": "stderr",
     "output_type": "stream",
     "text": [
      "Train Processing: 0it [00:00, ?it/s]   "
     ]
    },
    {
     "name": "stdout",
     "output_type": "stream",
     "text": [
      "| start of epoch  71 | time: 0.77s | loss 0.000741\n",
      "80.0\n",
      "------------------------------------------------------------------------------------------\n",
      "| end of epoch  71 | time: 0.00s | loss 0.0208 | accuracy 80.0000%(400/500)\n",
      "------------------------------------------------------------------------------------------\n"
     ]
    },
    {
     "name": "stderr",
     "output_type": "stream",
     "text": [
      "Train Processing: 0it [00:00, ?it/s]   "
     ]
    },
    {
     "name": "stdout",
     "output_type": "stream",
     "text": [
      "| start of epoch  72 | time: 0.77s | loss 0.000747\n",
      "77.6\n",
      "------------------------------------------------------------------------------------------\n",
      "| end of epoch  72 | time: 0.00s | loss 0.0223 | accuracy 77.6000%(388/500)\n",
      "------------------------------------------------------------------------------------------\n"
     ]
    },
    {
     "name": "stderr",
     "output_type": "stream",
     "text": [
      "Train Processing: 0it [00:00, ?it/s]   "
     ]
    },
    {
     "name": "stdout",
     "output_type": "stream",
     "text": [
      "| start of epoch  73 | time: 0.77s | loss 0.000212\n",
      "79.4\n",
      "------------------------------------------------------------------------------------------\n",
      "| end of epoch  73 | time: 0.00s | loss 0.0219 | accuracy 79.4000%(397/500)\n",
      "------------------------------------------------------------------------------------------\n"
     ]
    },
    {
     "name": "stderr",
     "output_type": "stream",
     "text": [
      "Train Processing: 0it [00:00, ?it/s]   "
     ]
    },
    {
     "name": "stdout",
     "output_type": "stream",
     "text": [
      "| start of epoch  74 | time: 0.78s | loss 0.000061\n",
      "80.4\n",
      "------------------------------------------------------------------------------------------\n",
      "| end of epoch  74 | time: 0.00s | loss 0.0210 | accuracy 80.4000%(402/500)\n",
      "------------------------------------------------------------------------------------------\n"
     ]
    },
    {
     "name": "stderr",
     "output_type": "stream",
     "text": [
      "Train Processing: 0it [00:00, ?it/s]   "
     ]
    },
    {
     "name": "stdout",
     "output_type": "stream",
     "text": [
      "| start of epoch  75 | time: 0.83s | loss 0.000141\n",
      "77.0\n",
      "------------------------------------------------------------------------------------------\n",
      "| end of epoch  75 | time: 0.00s | loss 0.0260 | accuracy 77.0000%(385/500)\n",
      "------------------------------------------------------------------------------------------\n"
     ]
    },
    {
     "name": "stderr",
     "output_type": "stream",
     "text": [
      "Train Processing: 0it [00:00, ?it/s]   "
     ]
    },
    {
     "name": "stdout",
     "output_type": "stream",
     "text": [
      "| start of epoch  76 | time: 0.77s | loss 0.000712\n",
      "81.6\n",
      "------------------------------------------------------------------------------------------\n",
      "| end of epoch  76 | time: 0.00s | loss 0.0197 | accuracy 81.6000%(408/500)\n",
      "------------------------------------------------------------------------------------------\n"
     ]
    },
    {
     "name": "stderr",
     "output_type": "stream",
     "text": [
      "Train Processing: 0it [00:00, ?it/s]   "
     ]
    },
    {
     "name": "stdout",
     "output_type": "stream",
     "text": [
      "| start of epoch  77 | time: 0.77s | loss 0.001625\n",
      "81.4\n",
      "------------------------------------------------------------------------------------------\n",
      "| end of epoch  77 | time: 0.00s | loss 0.0180 | accuracy 81.4000%(407/500)\n",
      "------------------------------------------------------------------------------------------\n"
     ]
    },
    {
     "name": "stderr",
     "output_type": "stream",
     "text": [
      "Train Processing: 0it [00:00, ?it/s]   "
     ]
    },
    {
     "name": "stdout",
     "output_type": "stream",
     "text": [
      "| start of epoch  78 | time: 0.77s | loss 0.000923\n",
      "78.4\n",
      "------------------------------------------------------------------------------------------\n",
      "| end of epoch  78 | time: 0.00s | loss 0.0232 | accuracy 78.4000%(392/500)\n",
      "------------------------------------------------------------------------------------------\n"
     ]
    },
    {
     "name": "stderr",
     "output_type": "stream",
     "text": [
      "Train Processing: 0it [00:00, ?it/s]   "
     ]
    },
    {
     "name": "stdout",
     "output_type": "stream",
     "text": [
      "| start of epoch  79 | time: 0.77s | loss 0.000934\n",
      "81.4\n",
      "------------------------------------------------------------------------------------------\n",
      "| end of epoch  79 | time: 0.00s | loss 0.0181 | accuracy 81.4000%(407/500)\n",
      "------------------------------------------------------------------------------------------\n"
     ]
    },
    {
     "name": "stderr",
     "output_type": "stream",
     "text": [
      "Train Processing: 0it [00:00, ?it/s]   "
     ]
    },
    {
     "name": "stdout",
     "output_type": "stream",
     "text": [
      "| start of epoch  80 | time: 0.77s | loss 0.000282\n",
      "82.0\n",
      "------------------------------------------------------------------------------------------\n",
      "| end of epoch  80 | time: 0.00s | loss 0.0168 | accuracy 82.0000%(410/500)\n",
      "------------------------------------------------------------------------------------------\n"
     ]
    },
    {
     "name": "stderr",
     "output_type": "stream",
     "text": [
      "Train Processing: 0it [00:00, ?it/s]   "
     ]
    },
    {
     "name": "stdout",
     "output_type": "stream",
     "text": [
      "| start of epoch  81 | time: 0.77s | loss 0.000136\n",
      "82.2\n",
      "------------------------------------------------------------------------------------------\n",
      "| end of epoch  81 | time: 0.00s | loss 0.0171 | accuracy 82.2000%(411/500)\n",
      "------------------------------------------------------------------------------------------\n"
     ]
    },
    {
     "name": "stderr",
     "output_type": "stream",
     "text": [
      "Train Processing: 0it [00:00, ?it/s]   "
     ]
    },
    {
     "name": "stdout",
     "output_type": "stream",
     "text": [
      "| start of epoch  82 | time: 0.77s | loss 0.000062\n",
      "81.0\n",
      "------------------------------------------------------------------------------------------\n",
      "| end of epoch  82 | time: 0.00s | loss 0.0184 | accuracy 81.0000%(405/500)\n",
      "------------------------------------------------------------------------------------------\n"
     ]
    },
    {
     "name": "stderr",
     "output_type": "stream",
     "text": [
      "Train Processing: 0it [00:00, ?it/s]   "
     ]
    },
    {
     "name": "stdout",
     "output_type": "stream",
     "text": [
      "| start of epoch  83 | time: 0.77s | loss 0.000075\n",
      "80.8\n",
      "------------------------------------------------------------------------------------------\n",
      "| end of epoch  83 | time: 0.00s | loss 0.0192 | accuracy 80.8000%(404/500)\n",
      "------------------------------------------------------------------------------------------\n"
     ]
    },
    {
     "name": "stderr",
     "output_type": "stream",
     "text": [
      "Train Processing: 0it [00:00, ?it/s]   "
     ]
    },
    {
     "name": "stdout",
     "output_type": "stream",
     "text": [
      "| start of epoch  84 | time: 0.77s | loss 0.000559\n",
      "79.2\n",
      "------------------------------------------------------------------------------------------\n",
      "| end of epoch  84 | time: 0.00s | loss 0.0194 | accuracy 79.2000%(396/500)\n",
      "------------------------------------------------------------------------------------------\n"
     ]
    },
    {
     "name": "stderr",
     "output_type": "stream",
     "text": [
      "Train Processing: 0it [00:00, ?it/s]   "
     ]
    },
    {
     "name": "stdout",
     "output_type": "stream",
     "text": [
      "| start of epoch  85 | time: 0.77s | loss 0.002706\n",
      "81.2\n",
      "------------------------------------------------------------------------------------------\n",
      "| end of epoch  85 | time: 0.00s | loss 0.0158 | accuracy 81.2000%(406/500)\n",
      "------------------------------------------------------------------------------------------\n"
     ]
    },
    {
     "name": "stderr",
     "output_type": "stream",
     "text": [
      "Train Processing: 0it [00:00, ?it/s]   "
     ]
    },
    {
     "name": "stdout",
     "output_type": "stream",
     "text": [
      "| start of epoch  86 | time: 0.77s | loss 0.001438\n",
      "77.4\n",
      "------------------------------------------------------------------------------------------\n",
      "| end of epoch  86 | time: 0.00s | loss 0.0230 | accuracy 77.4000%(387/500)\n",
      "------------------------------------------------------------------------------------------\n"
     ]
    },
    {
     "name": "stderr",
     "output_type": "stream",
     "text": [
      "Train Processing: 0it [00:00, ?it/s]   "
     ]
    },
    {
     "name": "stdout",
     "output_type": "stream",
     "text": [
      "| start of epoch  87 | time: 0.77s | loss 0.000353\n",
      "79.6\n",
      "------------------------------------------------------------------------------------------\n",
      "| end of epoch  87 | time: 0.00s | loss 0.0204 | accuracy 79.6000%(398/500)\n",
      "------------------------------------------------------------------------------------------\n"
     ]
    },
    {
     "name": "stderr",
     "output_type": "stream",
     "text": [
      "Train Processing: 0it [00:00, ?it/s]   "
     ]
    },
    {
     "name": "stdout",
     "output_type": "stream",
     "text": [
      "| start of epoch  88 | time: 0.77s | loss 0.000117\n",
      "80.0\n",
      "------------------------------------------------------------------------------------------\n",
      "| end of epoch  88 | time: 0.00s | loss 0.0204 | accuracy 80.0000%(400/500)\n",
      "------------------------------------------------------------------------------------------\n"
     ]
    },
    {
     "name": "stderr",
     "output_type": "stream",
     "text": [
      "Train Processing: 0it [00:00, ?it/s]   "
     ]
    },
    {
     "name": "stdout",
     "output_type": "stream",
     "text": [
      "| start of epoch  89 | time: 0.77s | loss 0.000051\n",
      "80.0\n",
      "------------------------------------------------------------------------------------------\n",
      "| end of epoch  89 | time: 0.00s | loss 0.0216 | accuracy 80.0000%(400/500)\n",
      "------------------------------------------------------------------------------------------\n"
     ]
    },
    {
     "name": "stderr",
     "output_type": "stream",
     "text": [
      "Train Processing: 0it [00:00, ?it/s]   "
     ]
    },
    {
     "name": "stdout",
     "output_type": "stream",
     "text": [
      "| start of epoch  90 | time: 0.77s | loss 0.000058\n",
      "79.6\n",
      "------------------------------------------------------------------------------------------\n",
      "| end of epoch  90 | time: 0.00s | loss 0.0230 | accuracy 79.6000%(398/500)\n",
      "------------------------------------------------------------------------------------------\n"
     ]
    },
    {
     "name": "stderr",
     "output_type": "stream",
     "text": [
      "Train Processing: 0it [00:00, ?it/s]   "
     ]
    },
    {
     "name": "stdout",
     "output_type": "stream",
     "text": [
      "| start of epoch  91 | time: 0.77s | loss 0.000174\n",
      "80.8\n",
      "------------------------------------------------------------------------------------------\n",
      "| end of epoch  91 | time: 0.00s | loss 0.0210 | accuracy 80.8000%(404/500)\n",
      "------------------------------------------------------------------------------------------\n"
     ]
    },
    {
     "name": "stderr",
     "output_type": "stream",
     "text": [
      "Train Processing: 0it [00:00, ?it/s]   "
     ]
    },
    {
     "name": "stdout",
     "output_type": "stream",
     "text": [
      "| start of epoch  92 | time: 0.77s | loss 0.000941\n",
      "78.4\n",
      "------------------------------------------------------------------------------------------\n",
      "| end of epoch  92 | time: 0.00s | loss 0.0218 | accuracy 78.4000%(392/500)\n",
      "------------------------------------------------------------------------------------------\n"
     ]
    },
    {
     "name": "stderr",
     "output_type": "stream",
     "text": [
      "Train Processing: 0it [00:00, ?it/s]   "
     ]
    },
    {
     "name": "stdout",
     "output_type": "stream",
     "text": [
      "| start of epoch  93 | time: 0.77s | loss 0.001831\n",
      "79.2\n",
      "------------------------------------------------------------------------------------------\n",
      "| end of epoch  93 | time: 0.00s | loss 0.0201 | accuracy 79.2000%(396/500)\n",
      "------------------------------------------------------------------------------------------\n"
     ]
    },
    {
     "name": "stderr",
     "output_type": "stream",
     "text": [
      "Train Processing: 0it [00:00, ?it/s]   "
     ]
    },
    {
     "name": "stdout",
     "output_type": "stream",
     "text": [
      "| start of epoch  94 | time: 0.77s | loss 0.000986\n",
      "80.0\n",
      "------------------------------------------------------------------------------------------\n",
      "| end of epoch  94 | time: 0.00s | loss 0.0200 | accuracy 80.0000%(400/500)\n",
      "------------------------------------------------------------------------------------------\n"
     ]
    },
    {
     "name": "stderr",
     "output_type": "stream",
     "text": [
      "Train Processing: 0it [00:00, ?it/s]   "
     ]
    },
    {
     "name": "stdout",
     "output_type": "stream",
     "text": [
      "| start of epoch  95 | time: 0.77s | loss 0.000515\n",
      "81.6\n",
      "------------------------------------------------------------------------------------------\n",
      "| end of epoch  95 | time: 0.00s | loss 0.0174 | accuracy 81.6000%(408/500)\n",
      "------------------------------------------------------------------------------------------\n"
     ]
    },
    {
     "name": "stderr",
     "output_type": "stream",
     "text": [
      "Train Processing: 0it [00:00, ?it/s]   "
     ]
    },
    {
     "name": "stdout",
     "output_type": "stream",
     "text": [
      "| start of epoch  96 | time: 0.77s | loss 0.000272\n",
      "81.0\n",
      "------------------------------------------------------------------------------------------\n",
      "| end of epoch  96 | time: 0.00s | loss 0.0183 | accuracy 81.0000%(405/500)\n",
      "------------------------------------------------------------------------------------------\n"
     ]
    },
    {
     "name": "stderr",
     "output_type": "stream",
     "text": [
      "Train Processing: 0it [00:00, ?it/s]   "
     ]
    },
    {
     "name": "stdout",
     "output_type": "stream",
     "text": [
      "| start of epoch  97 | time: 0.77s | loss 0.000166\n",
      "80.4\n",
      "------------------------------------------------------------------------------------------\n",
      "| end of epoch  97 | time: 0.00s | loss 0.0185 | accuracy 80.4000%(402/500)\n",
      "------------------------------------------------------------------------------------------\n"
     ]
    },
    {
     "name": "stderr",
     "output_type": "stream",
     "text": [
      "Train Processing: 0it [00:00, ?it/s]   "
     ]
    },
    {
     "name": "stdout",
     "output_type": "stream",
     "text": [
      "| start of epoch  98 | time: 0.77s | loss 0.000079\n",
      "81.0\n",
      "------------------------------------------------------------------------------------------\n",
      "| end of epoch  98 | time: 0.00s | loss 0.0211 | accuracy 81.0000%(405/500)\n",
      "------------------------------------------------------------------------------------------\n"
     ]
    },
    {
     "name": "stderr",
     "output_type": "stream",
     "text": [
      "                                       "
     ]
    },
    {
     "name": "stdout",
     "output_type": "stream",
     "text": [
      "| start of epoch  99 | time: 0.77s | loss 0.000097\n",
      "81.8\n",
      "------------------------------------------------------------------------------------------\n",
      "| end of epoch  99 | time: 0.00s | loss 0.0197 | accuracy 81.8000%(409/500)\n",
      "------------------------------------------------------------------------------------------\n"
     ]
    },
    {
     "name": "stderr",
     "output_type": "stream",
     "text": [
      "\r"
     ]
    }
   ],
   "source": [
    "import torch\n",
    "import torch.nn as nn\n",
    "from torch.autograd import Variable\n",
    "from torch.nn import init\n",
    "import torch.nn.functional as F\n",
    "\n",
    "import const\n",
    "class LayerNorm(nn.Module):\n",
    "    def __init__(self, hidden_size, eps=1e-6):\n",
    "        super(LayerNorm,self).__init__()\n",
    "        self.eps = eps\n",
    "        self.weight = nn.Parameter(torch.ones(hidden_size))\n",
    "        self.bias = nn.Parameter(torch.zeros(hidden_size))\n",
    "\n",
    "    def forward(self, input):\n",
    "        mu = torch.mean(input, dim=-1, keepdim=True)\n",
    "        sigma = torch.std(input, dim=-1, keepdim=True).clamp(min=self.eps)\n",
    "        output = (input - mu) / sigma\n",
    "        return output * self.weight.expand_as(output) + self.bias.expand_as(output)\n",
    "\n",
    "class LSTM_Text(nn.Module):\n",
    "\n",
    "    def __init__(self,vocab_size,batch_size,embed_dim,label_size):\n",
    "        super(LSTM_Text,self).__init__()\n",
    "        self.vocab_size=vocab_size\n",
    "        self.embed_dim=embed_dim\n",
    "        self.hidden_size=128\n",
    "        self.lstm_layers=1\n",
    "        self.dropout=0.5\n",
    "        self.batch_size=batch_size\n",
    "        self.bidirectional=1\n",
    "        self.label_size=label_size\n",
    "        #self.num_directions = 2 if self.bidirectional else 1\n",
    "        self.num_directions = 2 if 1 else 1\n",
    "\n",
    "        self.lookup_table = nn.Embedding(self.vocab_size, self.embed_dim,\n",
    "                                padding_idx=const.PAD)\n",
    "        self.lstm = nn.LSTM(self.embed_dim,\n",
    "                            self.hidden_size,\n",
    "                            self.lstm_layers,\n",
    "                            dropout=self.dropout,\n",
    "                            bidirectional=self.bidirectional)\n",
    "        self.ln = LayerNorm(self.hidden_size*self.num_directions)\n",
    "        self.logistic = nn.Linear(self.hidden_size*self.num_directions,\n",
    "                                self.label_size)\n",
    "\n",
    "        self._init_weights()\n",
    "\n",
    "    def _init_weights(self, scope=1.):\n",
    "        self.lookup_table.weight.data.copy_(torch.from_numpy(pretrained_wordvec))\n",
    "        self.logistic.weight.data.uniform_(-scope, scope)\n",
    "        self.logistic.bias.data.fill_(0)\n",
    "\n",
    "    def init_hidden(self):\n",
    "        num_layers = self.lstm_layers*self.num_directions\n",
    "\n",
    "        weight = next(self.parameters()).data\n",
    "        return (Variable(weight.new(num_layers, self.batch_size, self.hidden_size).zero_()),Variable(weight.new(num_layers, self.batch_size, self.hidden_size).zero_()))\n",
    "\n",
    "    def forward(self, input, hidden):\n",
    "        #print self.lookup_table.weight.data\n",
    "        encode = self.lookup_table(input)\n",
    "        lstm_out, hidden = self.lstm(encode.transpose(0, 1), hidden)\n",
    "        output = self.ln(lstm_out)[-1]\n",
    "        return F.log_softmax(self.logistic(output)), hidden\n",
    "\n",
    "# ##############################################################################\n",
    "# Build model\n",
    "# ##############################################################################\n",
    "import model\n",
    "\n",
    "\n",
    "rnn = LSTM_Text(vocab_size=vocab_size,batch_size=batch_size,embed_dim=300,label_size=label_size)\n",
    "if use_cuda:\n",
    "    rnn = rnn.cuda()\n",
    "\n",
    "optimizer = torch.optim.Adam(rnn.parameters(), lr=0.001, weight_decay=0.001)\n",
    "criterion = torch.nn.CrossEntropyLoss()\n",
    "print rnn\n",
    "\n",
    "\n",
    "# ##############################################################################\n",
    "# Save Model\n",
    "# ##############################################################################\n",
    "best_acc = None\n",
    "total_start_time = time.time()\n",
    "\n",
    "try:\n",
    "    print('-' * 90)\n",
    "    for epoch in range(1, 100):\n",
    "        epoch_start_time = time.time()\n",
    "        loss = train()\n",
    "        train_loss.append(loss*1000.)\n",
    "\n",
    "        print('| start of epoch {:3d} | time: {:2.2f}s | loss {:5.6f}'.format(epoch, time.time() - epoch_start_time, loss))\n",
    "\n",
    "        loss, corrects, acc, size = evaluate()\n",
    "        valid_loss.append(loss*1000.)\n",
    "        accuracy.append(acc)\n",
    "        print acc\n",
    "        epoch_start_time = time.time()\n",
    "        print('-' * 90)\n",
    "        print('| end of epoch {:3d} | time: {:2.2f}s | loss {:.4f} | accuracy {:.4f}%({}/{})'.format(epoch, time.time() - epoch_start_time, loss, acc, corrects, size))\n",
    "        print('-' * 90)\n",
    "        if not best_acc or best_acc < corrects:\n",
    "            best_acc = corrects\n",
    "            model_state_dict = rnn.state_dict()\n",
    "            '''\n",
    "            model_source = {\n",
    "                \"settings\": args,\n",
    "                \"model\": model_state_dict,\n",
    "                \"src_dict\": data['dict']['train']\n",
    "            }\n",
    "            torch.save(model_source, args.save)\n",
    "            '''\n",
    "except KeyboardInterrupt:\n",
    "    print(\"-\"*90)\n",
    "    print(\"Exiting from training early | cost time: {:5.2f}min\".format((time.time() - total_start_time)/60.0))\n"
   ]
  },
  {
   "cell_type": "code",
   "execution_count": null,
   "metadata": {
    "collapsed": true
   },
   "outputs": [],
   "source": []
  }
 ],
 "metadata": {
  "kernelspec": {
   "display_name": "Python 2",
   "language": "python",
   "name": "python2"
  },
  "language_info": {
   "codemirror_mode": {
    "name": "ipython",
    "version": 2
   },
   "file_extension": ".py",
   "mimetype": "text/x-python",
   "name": "python",
   "nbconvert_exporter": "python",
   "pygments_lexer": "ipython2",
   "version": "2.7.13"
  }
 },
 "nbformat": 4,
 "nbformat_minor": 2
}
